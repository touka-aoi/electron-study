{
 "cells": [
  {
   "cell_type": "code",
   "execution_count": 288,
   "metadata": {},
   "outputs": [],
   "source": [
    "import pandas as pd\n",
    "import numpy as np\n",
    "import datetime "
   ]
  },
  {
   "cell_type": "code",
   "execution_count": 291,
   "metadata": {},
   "outputs": [],
   "source": [
    "today = pd.Timestamp.today()"
   ]
  },
  {
   "cell_type": "code",
   "execution_count": 292,
   "metadata": {},
   "outputs": [
    {
     "data": {
      "text/plain": [
       "Timestamp('2022-10-25 21:02:14.992630')"
      ]
     },
     "execution_count": 292,
     "metadata": {},
     "output_type": "execute_result"
    }
   ],
   "source": [
    "today"
   ]
  },
  {
   "cell_type": "code",
   "execution_count": 293,
   "metadata": {},
   "outputs": [],
   "source": [
    "n = 100"
   ]
  },
  {
   "cell_type": "code",
   "execution_count": 294,
   "metadata": {},
   "outputs": [],
   "source": [
    "timeList = [today + datetime.timedelta(milliseconds=x) for x in range(n)]"
   ]
  },
  {
   "cell_type": "code",
   "execution_count": 295,
   "metadata": {},
   "outputs": [],
   "source": [
    "today_plus = today + datetime.timedelta(microseconds=222)"
   ]
  },
  {
   "cell_type": "code",
   "execution_count": 296,
   "metadata": {},
   "outputs": [],
   "source": [
    "timeList2 = [today_plus + datetime.timedelta(milliseconds=x*2) for x in range(50)]"
   ]
  },
  {
   "cell_type": "code",
   "execution_count": 315,
   "metadata": {},
   "outputs": [
    {
     "data": {
      "text/plain": [
       "array([24,  9, 18, 20,  8, 25,  7, 10, 11,  9, 24, 13, 19, 28, 11,  6, 24,\n",
       "       28, 25, 17, 27, 28, 28, 13, 27, 25, 26,  8, 17, 22,  6, 14, 29,  8,\n",
       "       26,  5,  9, 25, 21,  7, 23,  7,  8,  7, 28, 20, 20, 14, 22, 25, 16,\n",
       "       17, 17, 27, 29, 28, 28,  7, 25, 10, 21, 26, 11, 22,  8,  5, 24, 25,\n",
       "       15,  9, 18,  7, 10, 21, 17, 26, 26,  6, 16,  9,  6, 18, 11,  7,  7,\n",
       "        8, 15, 11, 13, 23,  6, 26, 22, 11, 10, 29, 28, 16, 21,  9])"
      ]
     },
     "execution_count": 315,
     "metadata": {},
     "output_type": "execute_result"
    }
   ],
   "source": [
    "#dataList = pd.util.testing.rands_array(10, 100)\n",
    "dataList = np.random.randint(5,30,size=100)\n",
    "dataList"
   ]
  },
  {
   "cell_type": "code",
   "execution_count": 314,
   "metadata": {},
   "outputs": [
    {
     "data": {
      "text/plain": [
       "array([13, 25, 19, 14, 28,  9, 24, 28, 19, 25, 20, 15, 23, 29, 19, 16, 11,\n",
       "        7, 21,  5, 27, 20, 24,  7, 13, 20, 19, 22, 29, 10, 19,  9, 20, 21,\n",
       "       17, 28, 11, 14, 22, 29, 21,  8,  9, 16, 20,  7, 17,  7, 25, 11,  8,\n",
       "       16, 13, 24, 29, 26,  7, 16, 13,  5, 12, 28,  9, 20, 26, 12, 22, 23,\n",
       "       10, 25, 23, 22,  6,  8, 28, 13, 25,  5, 11, 29, 27,  6, 17, 14,  9,\n",
       "       27, 12,  6,  6, 28, 12, 10, 21, 24, 25, 14, 26, 24, 19, 16])"
      ]
     },
     "execution_count": 314,
     "metadata": {},
     "output_type": "execute_result"
    }
   ],
   "source": [
    "#dataList2 = pd.util.testing.rands_array(10, 50)\n",
    "dataList2 = np.random.randint(5,30,size=100)\n",
    "dataList2"
   ]
  },
  {
   "cell_type": "code",
   "execution_count": 305,
   "metadata": {},
   "outputs": [],
   "source": [
    "df1 = pd.DataFrame({'hoge_TIMESTAMP': timeList,\n",
    "                   'hoge': dataList,\n",
    "                  })"
   ]
  },
  {
   "cell_type": "code",
   "execution_count": 308,
   "metadata": {},
   "outputs": [],
   "source": [
    "df2 = pd.DataFrame({'fuga_TIMESTAMP': timeList2,\n",
    "                   'fuga': dataList,\n",
    "                  })"
   ]
  },
  {
   "cell_type": "code",
   "execution_count": 301,
   "metadata": {},
   "outputs": [
    {
     "data": {
      "text/html": [
       "<div>\n",
       "<style scoped>\n",
       "    .dataframe tbody tr th:only-of-type {\n",
       "        vertical-align: middle;\n",
       "    }\n",
       "\n",
       "    .dataframe tbody tr th {\n",
       "        vertical-align: top;\n",
       "    }\n",
       "\n",
       "    .dataframe thead th {\n",
       "        text-align: right;\n",
       "    }\n",
       "</style>\n",
       "<table border=\"1\" class=\"dataframe\">\n",
       "  <thead>\n",
       "    <tr style=\"text-align: right;\">\n",
       "      <th></th>\n",
       "      <th>hoge_TIMESTAMP</th>\n",
       "      <th>hoge</th>\n",
       "    </tr>\n",
       "  </thead>\n",
       "  <tbody>\n",
       "    <tr>\n",
       "      <th>0</th>\n",
       "      <td>2022-10-25 21:02:14.992630</td>\n",
       "      <td>6</td>\n",
       "    </tr>\n",
       "    <tr>\n",
       "      <th>1</th>\n",
       "      <td>2022-10-25 21:02:14.993630</td>\n",
       "      <td>13</td>\n",
       "    </tr>\n",
       "    <tr>\n",
       "      <th>2</th>\n",
       "      <td>2022-10-25 21:02:14.994630</td>\n",
       "      <td>7</td>\n",
       "    </tr>\n",
       "    <tr>\n",
       "      <th>3</th>\n",
       "      <td>2022-10-25 21:02:14.995630</td>\n",
       "      <td>25</td>\n",
       "    </tr>\n",
       "    <tr>\n",
       "      <th>4</th>\n",
       "      <td>2022-10-25 21:02:14.996630</td>\n",
       "      <td>14</td>\n",
       "    </tr>\n",
       "    <tr>\n",
       "      <th>...</th>\n",
       "      <td>...</td>\n",
       "      <td>...</td>\n",
       "    </tr>\n",
       "    <tr>\n",
       "      <th>95</th>\n",
       "      <td>2022-10-25 21:02:15.087630</td>\n",
       "      <td>7</td>\n",
       "    </tr>\n",
       "    <tr>\n",
       "      <th>96</th>\n",
       "      <td>2022-10-25 21:02:15.088630</td>\n",
       "      <td>23</td>\n",
       "    </tr>\n",
       "    <tr>\n",
       "      <th>97</th>\n",
       "      <td>2022-10-25 21:02:15.089630</td>\n",
       "      <td>16</td>\n",
       "    </tr>\n",
       "    <tr>\n",
       "      <th>98</th>\n",
       "      <td>2022-10-25 21:02:15.090630</td>\n",
       "      <td>16</td>\n",
       "    </tr>\n",
       "    <tr>\n",
       "      <th>99</th>\n",
       "      <td>2022-10-25 21:02:15.091630</td>\n",
       "      <td>25</td>\n",
       "    </tr>\n",
       "  </tbody>\n",
       "</table>\n",
       "<p>100 rows × 2 columns</p>\n",
       "</div>"
      ],
      "text/plain": [
       "               hoge_TIMESTAMP  hoge\n",
       "0  2022-10-25 21:02:14.992630     6\n",
       "1  2022-10-25 21:02:14.993630    13\n",
       "2  2022-10-25 21:02:14.994630     7\n",
       "3  2022-10-25 21:02:14.995630    25\n",
       "4  2022-10-25 21:02:14.996630    14\n",
       "..                        ...   ...\n",
       "95 2022-10-25 21:02:15.087630     7\n",
       "96 2022-10-25 21:02:15.088630    23\n",
       "97 2022-10-25 21:02:15.089630    16\n",
       "98 2022-10-25 21:02:15.090630    16\n",
       "99 2022-10-25 21:02:15.091630    25\n",
       "\n",
       "[100 rows x 2 columns]"
      ]
     },
     "metadata": {},
     "output_type": "display_data"
    },
    {
     "data": {
      "text/html": [
       "<div>\n",
       "<style scoped>\n",
       "    .dataframe tbody tr th:only-of-type {\n",
       "        vertical-align: middle;\n",
       "    }\n",
       "\n",
       "    .dataframe tbody tr th {\n",
       "        vertical-align: top;\n",
       "    }\n",
       "\n",
       "    .dataframe thead th {\n",
       "        text-align: right;\n",
       "    }\n",
       "</style>\n",
       "<table border=\"1\" class=\"dataframe\">\n",
       "  <thead>\n",
       "    <tr style=\"text-align: right;\">\n",
       "      <th></th>\n",
       "      <th>fuga_TIMESTAMP</th>\n",
       "      <th>fuga</th>\n",
       "    </tr>\n",
       "  </thead>\n",
       "  <tbody>\n",
       "    <tr>\n",
       "      <th>0</th>\n",
       "      <td>2022-10-25 21:02:14.992852</td>\n",
       "      <td>10</td>\n",
       "    </tr>\n",
       "    <tr>\n",
       "      <th>1</th>\n",
       "      <td>2022-10-25 21:02:14.994852</td>\n",
       "      <td>19</td>\n",
       "    </tr>\n",
       "    <tr>\n",
       "      <th>2</th>\n",
       "      <td>2022-10-25 21:02:14.996852</td>\n",
       "      <td>21</td>\n",
       "    </tr>\n",
       "    <tr>\n",
       "      <th>3</th>\n",
       "      <td>2022-10-25 21:02:14.998852</td>\n",
       "      <td>21</td>\n",
       "    </tr>\n",
       "    <tr>\n",
       "      <th>4</th>\n",
       "      <td>2022-10-25 21:02:15.000852</td>\n",
       "      <td>21</td>\n",
       "    </tr>\n",
       "    <tr>\n",
       "      <th>5</th>\n",
       "      <td>2022-10-25 21:02:15.002852</td>\n",
       "      <td>10</td>\n",
       "    </tr>\n",
       "    <tr>\n",
       "      <th>6</th>\n",
       "      <td>2022-10-25 21:02:15.004852</td>\n",
       "      <td>23</td>\n",
       "    </tr>\n",
       "    <tr>\n",
       "      <th>7</th>\n",
       "      <td>2022-10-25 21:02:15.006852</td>\n",
       "      <td>9</td>\n",
       "    </tr>\n",
       "    <tr>\n",
       "      <th>8</th>\n",
       "      <td>2022-10-25 21:02:15.008852</td>\n",
       "      <td>29</td>\n",
       "    </tr>\n",
       "    <tr>\n",
       "      <th>9</th>\n",
       "      <td>2022-10-25 21:02:15.010852</td>\n",
       "      <td>5</td>\n",
       "    </tr>\n",
       "    <tr>\n",
       "      <th>10</th>\n",
       "      <td>2022-10-25 21:02:15.012852</td>\n",
       "      <td>23</td>\n",
       "    </tr>\n",
       "    <tr>\n",
       "      <th>11</th>\n",
       "      <td>2022-10-25 21:02:15.014852</td>\n",
       "      <td>15</td>\n",
       "    </tr>\n",
       "    <tr>\n",
       "      <th>12</th>\n",
       "      <td>2022-10-25 21:02:15.016852</td>\n",
       "      <td>24</td>\n",
       "    </tr>\n",
       "    <tr>\n",
       "      <th>13</th>\n",
       "      <td>2022-10-25 21:02:15.018852</td>\n",
       "      <td>23</td>\n",
       "    </tr>\n",
       "    <tr>\n",
       "      <th>14</th>\n",
       "      <td>2022-10-25 21:02:15.020852</td>\n",
       "      <td>22</td>\n",
       "    </tr>\n",
       "    <tr>\n",
       "      <th>15</th>\n",
       "      <td>2022-10-25 21:02:15.022852</td>\n",
       "      <td>6</td>\n",
       "    </tr>\n",
       "    <tr>\n",
       "      <th>16</th>\n",
       "      <td>2022-10-25 21:02:15.024852</td>\n",
       "      <td>11</td>\n",
       "    </tr>\n",
       "    <tr>\n",
       "      <th>17</th>\n",
       "      <td>2022-10-25 21:02:15.026852</td>\n",
       "      <td>23</td>\n",
       "    </tr>\n",
       "    <tr>\n",
       "      <th>18</th>\n",
       "      <td>2022-10-25 21:02:15.028852</td>\n",
       "      <td>13</td>\n",
       "    </tr>\n",
       "    <tr>\n",
       "      <th>19</th>\n",
       "      <td>2022-10-25 21:02:15.030852</td>\n",
       "      <td>26</td>\n",
       "    </tr>\n",
       "    <tr>\n",
       "      <th>20</th>\n",
       "      <td>2022-10-25 21:02:15.032852</td>\n",
       "      <td>26</td>\n",
       "    </tr>\n",
       "    <tr>\n",
       "      <th>21</th>\n",
       "      <td>2022-10-25 21:02:15.034852</td>\n",
       "      <td>19</td>\n",
       "    </tr>\n",
       "    <tr>\n",
       "      <th>22</th>\n",
       "      <td>2022-10-25 21:02:15.036852</td>\n",
       "      <td>8</td>\n",
       "    </tr>\n",
       "    <tr>\n",
       "      <th>23</th>\n",
       "      <td>2022-10-25 21:02:15.038852</td>\n",
       "      <td>10</td>\n",
       "    </tr>\n",
       "    <tr>\n",
       "      <th>24</th>\n",
       "      <td>2022-10-25 21:02:15.040852</td>\n",
       "      <td>23</td>\n",
       "    </tr>\n",
       "    <tr>\n",
       "      <th>25</th>\n",
       "      <td>2022-10-25 21:02:15.042852</td>\n",
       "      <td>11</td>\n",
       "    </tr>\n",
       "    <tr>\n",
       "      <th>26</th>\n",
       "      <td>2022-10-25 21:02:15.044852</td>\n",
       "      <td>19</td>\n",
       "    </tr>\n",
       "    <tr>\n",
       "      <th>27</th>\n",
       "      <td>2022-10-25 21:02:15.046852</td>\n",
       "      <td>14</td>\n",
       "    </tr>\n",
       "    <tr>\n",
       "      <th>28</th>\n",
       "      <td>2022-10-25 21:02:15.048852</td>\n",
       "      <td>24</td>\n",
       "    </tr>\n",
       "    <tr>\n",
       "      <th>29</th>\n",
       "      <td>2022-10-25 21:02:15.050852</td>\n",
       "      <td>18</td>\n",
       "    </tr>\n",
       "    <tr>\n",
       "      <th>30</th>\n",
       "      <td>2022-10-25 21:02:15.052852</td>\n",
       "      <td>22</td>\n",
       "    </tr>\n",
       "    <tr>\n",
       "      <th>31</th>\n",
       "      <td>2022-10-25 21:02:15.054852</td>\n",
       "      <td>26</td>\n",
       "    </tr>\n",
       "    <tr>\n",
       "      <th>32</th>\n",
       "      <td>2022-10-25 21:02:15.056852</td>\n",
       "      <td>5</td>\n",
       "    </tr>\n",
       "    <tr>\n",
       "      <th>33</th>\n",
       "      <td>2022-10-25 21:02:15.058852</td>\n",
       "      <td>29</td>\n",
       "    </tr>\n",
       "    <tr>\n",
       "      <th>34</th>\n",
       "      <td>2022-10-25 21:02:15.060852</td>\n",
       "      <td>14</td>\n",
       "    </tr>\n",
       "    <tr>\n",
       "      <th>35</th>\n",
       "      <td>2022-10-25 21:02:15.062852</td>\n",
       "      <td>27</td>\n",
       "    </tr>\n",
       "    <tr>\n",
       "      <th>36</th>\n",
       "      <td>2022-10-25 21:02:15.064852</td>\n",
       "      <td>17</td>\n",
       "    </tr>\n",
       "    <tr>\n",
       "      <th>37</th>\n",
       "      <td>2022-10-25 21:02:15.066852</td>\n",
       "      <td>21</td>\n",
       "    </tr>\n",
       "    <tr>\n",
       "      <th>38</th>\n",
       "      <td>2022-10-25 21:02:15.068852</td>\n",
       "      <td>17</td>\n",
       "    </tr>\n",
       "    <tr>\n",
       "      <th>39</th>\n",
       "      <td>2022-10-25 21:02:15.070852</td>\n",
       "      <td>23</td>\n",
       "    </tr>\n",
       "    <tr>\n",
       "      <th>40</th>\n",
       "      <td>2022-10-25 21:02:15.072852</td>\n",
       "      <td>19</td>\n",
       "    </tr>\n",
       "    <tr>\n",
       "      <th>41</th>\n",
       "      <td>2022-10-25 21:02:15.074852</td>\n",
       "      <td>16</td>\n",
       "    </tr>\n",
       "    <tr>\n",
       "      <th>42</th>\n",
       "      <td>2022-10-25 21:02:15.076852</td>\n",
       "      <td>26</td>\n",
       "    </tr>\n",
       "    <tr>\n",
       "      <th>43</th>\n",
       "      <td>2022-10-25 21:02:15.078852</td>\n",
       "      <td>6</td>\n",
       "    </tr>\n",
       "    <tr>\n",
       "      <th>44</th>\n",
       "      <td>2022-10-25 21:02:15.080852</td>\n",
       "      <td>23</td>\n",
       "    </tr>\n",
       "    <tr>\n",
       "      <th>45</th>\n",
       "      <td>2022-10-25 21:02:15.082852</td>\n",
       "      <td>14</td>\n",
       "    </tr>\n",
       "    <tr>\n",
       "      <th>46</th>\n",
       "      <td>2022-10-25 21:02:15.084852</td>\n",
       "      <td>19</td>\n",
       "    </tr>\n",
       "    <tr>\n",
       "      <th>47</th>\n",
       "      <td>2022-10-25 21:02:15.086852</td>\n",
       "      <td>24</td>\n",
       "    </tr>\n",
       "    <tr>\n",
       "      <th>48</th>\n",
       "      <td>2022-10-25 21:02:15.088852</td>\n",
       "      <td>12</td>\n",
       "    </tr>\n",
       "    <tr>\n",
       "      <th>49</th>\n",
       "      <td>2022-10-25 21:02:15.090852</td>\n",
       "      <td>23</td>\n",
       "    </tr>\n",
       "  </tbody>\n",
       "</table>\n",
       "</div>"
      ],
      "text/plain": [
       "               fuga_TIMESTAMP  fuga\n",
       "0  2022-10-25 21:02:14.992852    10\n",
       "1  2022-10-25 21:02:14.994852    19\n",
       "2  2022-10-25 21:02:14.996852    21\n",
       "3  2022-10-25 21:02:14.998852    21\n",
       "4  2022-10-25 21:02:15.000852    21\n",
       "5  2022-10-25 21:02:15.002852    10\n",
       "6  2022-10-25 21:02:15.004852    23\n",
       "7  2022-10-25 21:02:15.006852     9\n",
       "8  2022-10-25 21:02:15.008852    29\n",
       "9  2022-10-25 21:02:15.010852     5\n",
       "10 2022-10-25 21:02:15.012852    23\n",
       "11 2022-10-25 21:02:15.014852    15\n",
       "12 2022-10-25 21:02:15.016852    24\n",
       "13 2022-10-25 21:02:15.018852    23\n",
       "14 2022-10-25 21:02:15.020852    22\n",
       "15 2022-10-25 21:02:15.022852     6\n",
       "16 2022-10-25 21:02:15.024852    11\n",
       "17 2022-10-25 21:02:15.026852    23\n",
       "18 2022-10-25 21:02:15.028852    13\n",
       "19 2022-10-25 21:02:15.030852    26\n",
       "20 2022-10-25 21:02:15.032852    26\n",
       "21 2022-10-25 21:02:15.034852    19\n",
       "22 2022-10-25 21:02:15.036852     8\n",
       "23 2022-10-25 21:02:15.038852    10\n",
       "24 2022-10-25 21:02:15.040852    23\n",
       "25 2022-10-25 21:02:15.042852    11\n",
       "26 2022-10-25 21:02:15.044852    19\n",
       "27 2022-10-25 21:02:15.046852    14\n",
       "28 2022-10-25 21:02:15.048852    24\n",
       "29 2022-10-25 21:02:15.050852    18\n",
       "30 2022-10-25 21:02:15.052852    22\n",
       "31 2022-10-25 21:02:15.054852    26\n",
       "32 2022-10-25 21:02:15.056852     5\n",
       "33 2022-10-25 21:02:15.058852    29\n",
       "34 2022-10-25 21:02:15.060852    14\n",
       "35 2022-10-25 21:02:15.062852    27\n",
       "36 2022-10-25 21:02:15.064852    17\n",
       "37 2022-10-25 21:02:15.066852    21\n",
       "38 2022-10-25 21:02:15.068852    17\n",
       "39 2022-10-25 21:02:15.070852    23\n",
       "40 2022-10-25 21:02:15.072852    19\n",
       "41 2022-10-25 21:02:15.074852    16\n",
       "42 2022-10-25 21:02:15.076852    26\n",
       "43 2022-10-25 21:02:15.078852     6\n",
       "44 2022-10-25 21:02:15.080852    23\n",
       "45 2022-10-25 21:02:15.082852    14\n",
       "46 2022-10-25 21:02:15.084852    19\n",
       "47 2022-10-25 21:02:15.086852    24\n",
       "48 2022-10-25 21:02:15.088852    12\n",
       "49 2022-10-25 21:02:15.090852    23"
      ]
     },
     "metadata": {},
     "output_type": "display_data"
    }
   ],
   "source": [
    "display(df1, df2)"
   ]
  },
  {
   "cell_type": "code",
   "execution_count": 316,
   "metadata": {},
   "outputs": [],
   "source": [
    "df3 = pd.DataFrame({'fuga_TIMESTAMP': timeList,\n",
    "                   'fuga': dataList,\n",
    "                   \"huga\": dataList2\n",
    "                  })"
   ]
  },
  {
   "cell_type": "code",
   "execution_count": 318,
   "metadata": {},
   "outputs": [
    {
     "data": {
      "text/html": [
       "<div>\n",
       "<style scoped>\n",
       "    .dataframe tbody tr th:only-of-type {\n",
       "        vertical-align: middle;\n",
       "    }\n",
       "\n",
       "    .dataframe tbody tr th {\n",
       "        vertical-align: top;\n",
       "    }\n",
       "\n",
       "    .dataframe thead th {\n",
       "        text-align: right;\n",
       "    }\n",
       "</style>\n",
       "<table border=\"1\" class=\"dataframe\">\n",
       "  <thead>\n",
       "    <tr style=\"text-align: right;\">\n",
       "      <th></th>\n",
       "      <th>fuga_TIMESTAMP</th>\n",
       "      <th>fuga</th>\n",
       "      <th>huga</th>\n",
       "    </tr>\n",
       "  </thead>\n",
       "  <tbody>\n",
       "    <tr>\n",
       "      <th>0</th>\n",
       "      <td>2022-10-25 21:02:14.992630</td>\n",
       "      <td>24</td>\n",
       "      <td>13</td>\n",
       "    </tr>\n",
       "    <tr>\n",
       "      <th>1</th>\n",
       "      <td>2022-10-25 21:02:14.993630</td>\n",
       "      <td>9</td>\n",
       "      <td>25</td>\n",
       "    </tr>\n",
       "    <tr>\n",
       "      <th>2</th>\n",
       "      <td>2022-10-25 21:02:14.994630</td>\n",
       "      <td>18</td>\n",
       "      <td>19</td>\n",
       "    </tr>\n",
       "    <tr>\n",
       "      <th>3</th>\n",
       "      <td>2022-10-25 21:02:14.995630</td>\n",
       "      <td>20</td>\n",
       "      <td>14</td>\n",
       "    </tr>\n",
       "    <tr>\n",
       "      <th>4</th>\n",
       "      <td>2022-10-25 21:02:14.996630</td>\n",
       "      <td>8</td>\n",
       "      <td>28</td>\n",
       "    </tr>\n",
       "  </tbody>\n",
       "</table>\n",
       "</div>"
      ],
      "text/plain": [
       "              fuga_TIMESTAMP  fuga  huga\n",
       "0 2022-10-25 21:02:14.992630    24    13\n",
       "1 2022-10-25 21:02:14.993630     9    25\n",
       "2 2022-10-25 21:02:14.994630    18    19\n",
       "3 2022-10-25 21:02:14.995630    20    14\n",
       "4 2022-10-25 21:02:14.996630     8    28"
      ]
     },
     "execution_count": 318,
     "metadata": {},
     "output_type": "execute_result"
    }
   ],
   "source": [
    "ans = df3\n",
    "ans.head()"
   ]
  },
  {
   "cell_type": "code",
   "execution_count": 319,
   "metadata": {},
   "outputs": [],
   "source": [
    "ans.to_csv(\"dummy.csv\")"
   ]
  },
  {
   "cell_type": "code",
   "execution_count": 484,
   "metadata": {},
   "outputs": [],
   "source": [
    "# 読み込み\n",
    "data = pd.read_csv(\"dummy.csv\", index_col=0)\n",
    "\n",
    "# 下三桁にする\n"
   ]
  },
  {
   "cell_type": "code",
   "execution_count": 485,
   "metadata": {},
   "outputs": [
    {
     "data": {
      "text/html": [
       "<div>\n",
       "<style scoped>\n",
       "    .dataframe tbody tr th:only-of-type {\n",
       "        vertical-align: middle;\n",
       "    }\n",
       "\n",
       "    .dataframe tbody tr th {\n",
       "        vertical-align: top;\n",
       "    }\n",
       "\n",
       "    .dataframe thead th {\n",
       "        text-align: right;\n",
       "    }\n",
       "</style>\n",
       "<table border=\"1\" class=\"dataframe\">\n",
       "  <thead>\n",
       "    <tr style=\"text-align: right;\">\n",
       "      <th></th>\n",
       "      <th>fuga_TIMESTAMP</th>\n",
       "      <th>fuga</th>\n",
       "      <th>huga</th>\n",
       "    </tr>\n",
       "  </thead>\n",
       "  <tbody>\n",
       "    <tr>\n",
       "      <th>0</th>\n",
       "      <td>2022-10-25 21:02:14.992630</td>\n",
       "      <td>24</td>\n",
       "      <td>13</td>\n",
       "    </tr>\n",
       "    <tr>\n",
       "      <th>1</th>\n",
       "      <td>2022-10-25 21:02:14.993630</td>\n",
       "      <td>9</td>\n",
       "      <td>25</td>\n",
       "    </tr>\n",
       "    <tr>\n",
       "      <th>2</th>\n",
       "      <td>2022-10-25 21:02:14.994630</td>\n",
       "      <td>18</td>\n",
       "      <td>19</td>\n",
       "    </tr>\n",
       "    <tr>\n",
       "      <th>3</th>\n",
       "      <td>2022-10-25 21:02:14.995630</td>\n",
       "      <td>20</td>\n",
       "      <td>14</td>\n",
       "    </tr>\n",
       "    <tr>\n",
       "      <th>4</th>\n",
       "      <td>2022-10-25 21:02:14.996630</td>\n",
       "      <td>8</td>\n",
       "      <td>28</td>\n",
       "    </tr>\n",
       "    <tr>\n",
       "      <th>...</th>\n",
       "      <td>...</td>\n",
       "      <td>...</td>\n",
       "      <td>...</td>\n",
       "    </tr>\n",
       "    <tr>\n",
       "      <th>95</th>\n",
       "      <td>2022-10-25 21:02:15.087630</td>\n",
       "      <td>29</td>\n",
       "      <td>14</td>\n",
       "    </tr>\n",
       "    <tr>\n",
       "      <th>96</th>\n",
       "      <td>2022-10-25 21:02:15.088630</td>\n",
       "      <td>28</td>\n",
       "      <td>26</td>\n",
       "    </tr>\n",
       "    <tr>\n",
       "      <th>97</th>\n",
       "      <td>2022-10-25 21:02:15.089630</td>\n",
       "      <td>16</td>\n",
       "      <td>24</td>\n",
       "    </tr>\n",
       "    <tr>\n",
       "      <th>98</th>\n",
       "      <td>2022-10-25 21:02:15.090630</td>\n",
       "      <td>21</td>\n",
       "      <td>19</td>\n",
       "    </tr>\n",
       "    <tr>\n",
       "      <th>99</th>\n",
       "      <td>2022-10-25 21:02:15.091630</td>\n",
       "      <td>9</td>\n",
       "      <td>16</td>\n",
       "    </tr>\n",
       "  </tbody>\n",
       "</table>\n",
       "<p>100 rows × 3 columns</p>\n",
       "</div>"
      ],
      "text/plain": [
       "                fuga_TIMESTAMP  fuga  huga\n",
       "0   2022-10-25 21:02:14.992630    24    13\n",
       "1   2022-10-25 21:02:14.993630     9    25\n",
       "2   2022-10-25 21:02:14.994630    18    19\n",
       "3   2022-10-25 21:02:14.995630    20    14\n",
       "4   2022-10-25 21:02:14.996630     8    28\n",
       "..                         ...   ...   ...\n",
       "95  2022-10-25 21:02:15.087630    29    14\n",
       "96  2022-10-25 21:02:15.088630    28    26\n",
       "97  2022-10-25 21:02:15.089630    16    24\n",
       "98  2022-10-25 21:02:15.090630    21    19\n",
       "99  2022-10-25 21:02:15.091630     9    16\n",
       "\n",
       "[100 rows x 3 columns]"
      ]
     },
     "execution_count": 485,
     "metadata": {},
     "output_type": "execute_result"
    }
   ],
   "source": [
    "data"
   ]
  },
  {
   "cell_type": "code",
   "execution_count": 286,
   "metadata": {},
   "outputs": [],
   "source": [
    "data[\"TIMESTAMP\"] = data[\"hoge_TIMESTAMP\"]"
   ]
  },
  {
   "cell_type": "code",
   "execution_count": 278,
   "metadata": {},
   "outputs": [
    {
     "ename": "KeyError",
     "evalue": "'TIMESTAMP'",
     "output_type": "error",
     "traceback": [
      "\u001b[1;31m---------------------------------------------------------------------------\u001b[0m",
      "\u001b[1;31mKeyError\u001b[0m                                  Traceback (most recent call last)",
      "\u001b[1;32mセル16 を c:\\Users\\ekule\\Documents\\myElectron\\testCode\\pdChange.ipynb\u001b[0m in \u001b[0;36m<cell line: 1>\u001b[1;34m()\u001b[0m\n\u001b[1;32m----> <a href='vscode-notebook-cell:/c%3A/Users/ekule/Documents/myElectron/testCode/pdChange.ipynb#X40sZmlsZQ%3D%3D?line=0'>1</a>\u001b[0m pd\u001b[39m.\u001b[39;49mmerge(data\u001b[39m.\u001b[39;49miloc[:, \u001b[39m0\u001b[39;49m:\u001b[39m2\u001b[39;49m], data\u001b[39m.\u001b[39;49miloc[:, \u001b[39m2\u001b[39;49m:\u001b[39m4\u001b[39;49m], how\u001b[39m=\u001b[39;49m\u001b[39m\"\u001b[39;49m\u001b[39minner\u001b[39;49m\u001b[39m\"\u001b[39;49m, on\u001b[39m=\u001b[39;49m\u001b[39m\"\u001b[39;49m\u001b[39mTIMESTAMP\u001b[39;49m\u001b[39m\"\u001b[39;49m)\n",
      "File \u001b[1;32mc:\\Users\\ekule\\miniforge3\\envs\\deep_learning\\lib\\site-packages\\pandas\\core\\reshape\\merge.py:107\u001b[0m, in \u001b[0;36mmerge\u001b[1;34m(left, right, how, on, left_on, right_on, left_index, right_index, sort, suffixes, copy, indicator, validate)\u001b[0m\n\u001b[0;32m     90\u001b[0m \u001b[39m@Substitution\u001b[39m(\u001b[39m\"\u001b[39m\u001b[39m\\n\u001b[39;00m\u001b[39mleft : DataFrame or named Series\u001b[39m\u001b[39m\"\u001b[39m)\n\u001b[0;32m     91\u001b[0m \u001b[39m@Appender\u001b[39m(_merge_doc, indents\u001b[39m=\u001b[39m\u001b[39m0\u001b[39m)\n\u001b[0;32m     92\u001b[0m \u001b[39mdef\u001b[39;00m \u001b[39mmerge\u001b[39m(\n\u001b[1;32m   (...)\u001b[0m\n\u001b[0;32m    105\u001b[0m     validate: \u001b[39mstr\u001b[39m \u001b[39m|\u001b[39m \u001b[39mNone\u001b[39;00m \u001b[39m=\u001b[39m \u001b[39mNone\u001b[39;00m,\n\u001b[0;32m    106\u001b[0m ) \u001b[39m-\u001b[39m\u001b[39m>\u001b[39m DataFrame:\n\u001b[1;32m--> 107\u001b[0m     op \u001b[39m=\u001b[39m _MergeOperation(\n\u001b[0;32m    108\u001b[0m         left,\n\u001b[0;32m    109\u001b[0m         right,\n\u001b[0;32m    110\u001b[0m         how\u001b[39m=\u001b[39;49mhow,\n\u001b[0;32m    111\u001b[0m         on\u001b[39m=\u001b[39;49mon,\n\u001b[0;32m    112\u001b[0m         left_on\u001b[39m=\u001b[39;49mleft_on,\n\u001b[0;32m    113\u001b[0m         right_on\u001b[39m=\u001b[39;49mright_on,\n\u001b[0;32m    114\u001b[0m         left_index\u001b[39m=\u001b[39;49mleft_index,\n\u001b[0;32m    115\u001b[0m         right_index\u001b[39m=\u001b[39;49mright_index,\n\u001b[0;32m    116\u001b[0m         sort\u001b[39m=\u001b[39;49msort,\n\u001b[0;32m    117\u001b[0m         suffixes\u001b[39m=\u001b[39;49msuffixes,\n\u001b[0;32m    118\u001b[0m         copy\u001b[39m=\u001b[39;49mcopy,\n\u001b[0;32m    119\u001b[0m         indicator\u001b[39m=\u001b[39;49mindicator,\n\u001b[0;32m    120\u001b[0m         validate\u001b[39m=\u001b[39;49mvalidate,\n\u001b[0;32m    121\u001b[0m     )\n\u001b[0;32m    122\u001b[0m     \u001b[39mreturn\u001b[39;00m op\u001b[39m.\u001b[39mget_result()\n",
      "File \u001b[1;32mc:\\Users\\ekule\\miniforge3\\envs\\deep_learning\\lib\\site-packages\\pandas\\core\\reshape\\merge.py:700\u001b[0m, in \u001b[0;36m_MergeOperation.__init__\u001b[1;34m(self, left, right, how, on, left_on, right_on, axis, left_index, right_index, sort, suffixes, copy, indicator, validate)\u001b[0m\n\u001b[0;32m    693\u001b[0m \u001b[39mself\u001b[39m\u001b[39m.\u001b[39m_cross \u001b[39m=\u001b[39m cross_col\n\u001b[0;32m    695\u001b[0m \u001b[39m# note this function has side effects\u001b[39;00m\n\u001b[0;32m    696\u001b[0m (\n\u001b[0;32m    697\u001b[0m     \u001b[39mself\u001b[39m\u001b[39m.\u001b[39mleft_join_keys,\n\u001b[0;32m    698\u001b[0m     \u001b[39mself\u001b[39m\u001b[39m.\u001b[39mright_join_keys,\n\u001b[0;32m    699\u001b[0m     \u001b[39mself\u001b[39m\u001b[39m.\u001b[39mjoin_names,\n\u001b[1;32m--> 700\u001b[0m ) \u001b[39m=\u001b[39m \u001b[39mself\u001b[39;49m\u001b[39m.\u001b[39;49m_get_merge_keys()\n\u001b[0;32m    702\u001b[0m \u001b[39m# validate the merge keys dtypes. We may need to coerce\u001b[39;00m\n\u001b[0;32m    703\u001b[0m \u001b[39m# to avoid incompatible dtypes\u001b[39;00m\n\u001b[0;32m    704\u001b[0m \u001b[39mself\u001b[39m\u001b[39m.\u001b[39m_maybe_coerce_merge_keys()\n",
      "File \u001b[1;32mc:\\Users\\ekule\\miniforge3\\envs\\deep_learning\\lib\\site-packages\\pandas\\core\\reshape\\merge.py:1097\u001b[0m, in \u001b[0;36m_MergeOperation._get_merge_keys\u001b[1;34m(self)\u001b[0m\n\u001b[0;32m   1095\u001b[0m \u001b[39mif\u001b[39;00m \u001b[39mnot\u001b[39;00m is_rkey(rk):\n\u001b[0;32m   1096\u001b[0m     \u001b[39mif\u001b[39;00m rk \u001b[39mis\u001b[39;00m \u001b[39mnot\u001b[39;00m \u001b[39mNone\u001b[39;00m:\n\u001b[1;32m-> 1097\u001b[0m         right_keys\u001b[39m.\u001b[39mappend(right\u001b[39m.\u001b[39;49m_get_label_or_level_values(rk))\n\u001b[0;32m   1098\u001b[0m     \u001b[39melse\u001b[39;00m:\n\u001b[0;32m   1099\u001b[0m         \u001b[39m# work-around for merge_asof(right_index=True)\u001b[39;00m\n\u001b[0;32m   1100\u001b[0m         right_keys\u001b[39m.\u001b[39mappend(right\u001b[39m.\u001b[39mindex)\n",
      "File \u001b[1;32mc:\\Users\\ekule\\miniforge3\\envs\\deep_learning\\lib\\site-packages\\pandas\\core\\generic.py:1840\u001b[0m, in \u001b[0;36mNDFrame._get_label_or_level_values\u001b[1;34m(self, key, axis)\u001b[0m\n\u001b[0;32m   1838\u001b[0m     values \u001b[39m=\u001b[39m \u001b[39mself\u001b[39m\u001b[39m.\u001b[39maxes[axis]\u001b[39m.\u001b[39mget_level_values(key)\u001b[39m.\u001b[39m_values\n\u001b[0;32m   1839\u001b[0m \u001b[39melse\u001b[39;00m:\n\u001b[1;32m-> 1840\u001b[0m     \u001b[39mraise\u001b[39;00m \u001b[39mKeyError\u001b[39;00m(key)\n\u001b[0;32m   1842\u001b[0m \u001b[39m# Check for duplicates\u001b[39;00m\n\u001b[0;32m   1843\u001b[0m \u001b[39mif\u001b[39;00m values\u001b[39m.\u001b[39mndim \u001b[39m>\u001b[39m \u001b[39m1\u001b[39m:\n",
      "\u001b[1;31mKeyError\u001b[0m: 'TIMESTAMP'"
     ]
    }
   ],
   "source": [
    "pd.merge(data.iloc[:, 0:2], data.iloc[:, 2:4], how=\"inner\", on=\"TIMESTAMP\")"
   ]
  },
  {
   "cell_type": "code",
   "execution_count": 99,
   "metadata": {},
   "outputs": [
    {
     "data": {
      "text/plain": [
       "numpy.ndarray"
      ]
     },
     "execution_count": 99,
     "metadata": {},
     "output_type": "execute_result"
    }
   ],
   "source": [
    "type(data.columns.values)"
   ]
  },
  {
   "cell_type": "code",
   "execution_count": 260,
   "metadata": {},
   "outputs": [
    {
     "data": {
      "text/plain": [
       "'hoge_TIMESTAMP'"
      ]
     },
     "execution_count": 260,
     "metadata": {},
     "output_type": "execute_result"
    }
   ],
   "source": [
    "ef = 3\n",
    "# 最小のサンプリング数を取得する\n",
    "minLabel = data.filter(regex='TIMESTAMP$', axis=1).applymap(\n",
    "    lambda x : \n",
    "        x if pd.isna(x) else x[:-ef]\n",
    "    ).apply(\n",
    "    lambda x : \n",
    "        pd.to_datetime(x)\n",
    "    ).diff().min().idxmin()\n",
    "minLabel"
   ]
  },
  {
   "cell_type": "code",
   "execution_count": 266,
   "metadata": {},
   "outputs": [
    {
     "data": {
      "text/html": [
       "<div>\n",
       "<style scoped>\n",
       "    .dataframe tbody tr th:only-of-type {\n",
       "        vertical-align: middle;\n",
       "    }\n",
       "\n",
       "    .dataframe tbody tr th {\n",
       "        vertical-align: top;\n",
       "    }\n",
       "\n",
       "    .dataframe thead th {\n",
       "        text-align: right;\n",
       "    }\n",
       "</style>\n",
       "<table border=\"1\" class=\"dataframe\">\n",
       "  <thead>\n",
       "    <tr style=\"text-align: right;\">\n",
       "      <th></th>\n",
       "      <th>hoge_TIMESTAMP</th>\n",
       "      <th>hoge</th>\n",
       "      <th>fuga_TIMESTAMP</th>\n",
       "      <th>fuga</th>\n",
       "    </tr>\n",
       "  </thead>\n",
       "  <tbody>\n",
       "  </tbody>\n",
       "</table>\n",
       "</div>"
      ],
      "text/plain": [
       "Empty DataFrame\n",
       "Columns: [hoge_TIMESTAMP, hoge, fuga_TIMESTAMP, fuga]\n",
       "Index: []"
      ]
     },
     "execution_count": 266,
     "metadata": {},
     "output_type": "execute_result"
    }
   ],
   "source": [
    "pd.merge(data, data.filter(regex='TIMESTAMP$', axis=1).applymap(\n",
    "    lambda x : \n",
    "        x if pd.isna(x) else x[:-ef]\n",
    "    ))"
   ]
  },
  {
   "cell_type": "code",
   "execution_count": 259,
   "metadata": {},
   "outputs": [
    {
     "data": {
      "text/html": [
       "<div>\n",
       "<style scoped>\n",
       "    .dataframe tbody tr th:only-of-type {\n",
       "        vertical-align: middle;\n",
       "    }\n",
       "\n",
       "    .dataframe tbody tr th {\n",
       "        vertical-align: top;\n",
       "    }\n",
       "\n",
       "    .dataframe thead th {\n",
       "        text-align: right;\n",
       "    }\n",
       "</style>\n",
       "<table border=\"1\" class=\"dataframe\">\n",
       "  <thead>\n",
       "    <tr style=\"text-align: right;\">\n",
       "      <th></th>\n",
       "      <th>TIMESTAMP</th>\n",
       "    </tr>\n",
       "  </thead>\n",
       "  <tbody>\n",
       "    <tr>\n",
       "      <th>0</th>\n",
       "      <td>2022-10-24 21:16:09.379932</td>\n",
       "    </tr>\n",
       "    <tr>\n",
       "      <th>1</th>\n",
       "      <td>2022-10-24 21:16:09.380932</td>\n",
       "    </tr>\n",
       "    <tr>\n",
       "      <th>2</th>\n",
       "      <td>2022-10-24 21:16:09.381932</td>\n",
       "    </tr>\n",
       "    <tr>\n",
       "      <th>3</th>\n",
       "      <td>2022-10-24 21:16:09.382932</td>\n",
       "    </tr>\n",
       "    <tr>\n",
       "      <th>4</th>\n",
       "      <td>2022-10-24 21:16:09.383932</td>\n",
       "    </tr>\n",
       "    <tr>\n",
       "      <th>...</th>\n",
       "      <td>...</td>\n",
       "    </tr>\n",
       "    <tr>\n",
       "      <th>95</th>\n",
       "      <td>2022-10-24 21:16:09.474932</td>\n",
       "    </tr>\n",
       "    <tr>\n",
       "      <th>96</th>\n",
       "      <td>2022-10-24 21:16:09.475932</td>\n",
       "    </tr>\n",
       "    <tr>\n",
       "      <th>97</th>\n",
       "      <td>2022-10-24 21:16:09.476932</td>\n",
       "    </tr>\n",
       "    <tr>\n",
       "      <th>98</th>\n",
       "      <td>2022-10-24 21:16:09.477932</td>\n",
       "    </tr>\n",
       "    <tr>\n",
       "      <th>99</th>\n",
       "      <td>2022-10-24 21:16:09.478932</td>\n",
       "    </tr>\n",
       "  </tbody>\n",
       "</table>\n",
       "<p>100 rows × 1 columns</p>\n",
       "</div>"
      ],
      "text/plain": [
       "                     TIMESTAMP\n",
       "0   2022-10-24 21:16:09.379932\n",
       "1   2022-10-24 21:16:09.380932\n",
       "2   2022-10-24 21:16:09.381932\n",
       "3   2022-10-24 21:16:09.382932\n",
       "4   2022-10-24 21:16:09.383932\n",
       "..                         ...\n",
       "95  2022-10-24 21:16:09.474932\n",
       "96  2022-10-24 21:16:09.475932\n",
       "97  2022-10-24 21:16:09.476932\n",
       "98  2022-10-24 21:16:09.477932\n",
       "99  2022-10-24 21:16:09.478932\n",
       "\n",
       "[100 rows x 1 columns]"
      ]
     },
     "execution_count": 259,
     "metadata": {},
     "output_type": "execute_result"
    }
   ],
   "source": [
    "#最小サンプリング数のタイムスタンプをもとにマージする？\n",
    "final = pd.DataFrame(\n",
    "    data={\"TIMESTAMP\" : data[minLabel]}\n",
    ")\n",
    "final"
   ]
  },
  {
   "cell_type": "code",
   "execution_count": null,
   "metadata": {},
   "outputs": [],
   "source": []
  },
  {
   "cell_type": "code",
   "execution_count": 200,
   "metadata": {},
   "outputs": [
    {
     "data": {
      "text/plain": [
       "nan"
      ]
     },
     "execution_count": 200,
     "metadata": {},
     "output_type": "execute_result"
    }
   ],
   "source": [
    "data.iloc[:, 2][90]"
   ]
  },
  {
   "cell_type": "code",
   "execution_count": 473,
   "metadata": {},
   "outputs": [
    {
     "data": {
      "text/html": [
       "<div>\n",
       "<style scoped>\n",
       "    .dataframe tbody tr th:only-of-type {\n",
       "        vertical-align: middle;\n",
       "    }\n",
       "\n",
       "    .dataframe tbody tr th {\n",
       "        vertical-align: top;\n",
       "    }\n",
       "\n",
       "    .dataframe thead th {\n",
       "        text-align: right;\n",
       "    }\n",
       "</style>\n",
       "<table border=\"1\" class=\"dataframe\">\n",
       "  <thead>\n",
       "    <tr style=\"text-align: right;\">\n",
       "      <th></th>\n",
       "      <th>fuga_TIMESTAMP</th>\n",
       "      <th>fuga</th>\n",
       "      <th>huga</th>\n",
       "    </tr>\n",
       "  </thead>\n",
       "  <tbody>\n",
       "    <tr>\n",
       "      <th>0</th>\n",
       "      <td>2022-10-25 21:02:14.992630</td>\n",
       "      <td>24</td>\n",
       "      <td>13</td>\n",
       "    </tr>\n",
       "    <tr>\n",
       "      <th>1</th>\n",
       "      <td>2022-10-25 21:02:14.993630</td>\n",
       "      <td>9</td>\n",
       "      <td>25</td>\n",
       "    </tr>\n",
       "    <tr>\n",
       "      <th>2</th>\n",
       "      <td>2022-10-25 21:02:14.994630</td>\n",
       "      <td>18</td>\n",
       "      <td>19</td>\n",
       "    </tr>\n",
       "    <tr>\n",
       "      <th>3</th>\n",
       "      <td>2022-10-25 21:02:14.995630</td>\n",
       "      <td>20</td>\n",
       "      <td>14</td>\n",
       "    </tr>\n",
       "    <tr>\n",
       "      <th>4</th>\n",
       "      <td>2022-10-25 21:02:14.996630</td>\n",
       "      <td>8</td>\n",
       "      <td>28</td>\n",
       "    </tr>\n",
       "    <tr>\n",
       "      <th>...</th>\n",
       "      <td>...</td>\n",
       "      <td>...</td>\n",
       "      <td>...</td>\n",
       "    </tr>\n",
       "    <tr>\n",
       "      <th>95</th>\n",
       "      <td>2022-10-25 21:02:15.087630</td>\n",
       "      <td>29</td>\n",
       "      <td>14</td>\n",
       "    </tr>\n",
       "    <tr>\n",
       "      <th>96</th>\n",
       "      <td>2022-10-25 21:02:15.088630</td>\n",
       "      <td>28</td>\n",
       "      <td>26</td>\n",
       "    </tr>\n",
       "    <tr>\n",
       "      <th>97</th>\n",
       "      <td>2022-10-25 21:02:15.089630</td>\n",
       "      <td>16</td>\n",
       "      <td>24</td>\n",
       "    </tr>\n",
       "    <tr>\n",
       "      <th>98</th>\n",
       "      <td>2022-10-25 21:02:15.090630</td>\n",
       "      <td>21</td>\n",
       "      <td>19</td>\n",
       "    </tr>\n",
       "    <tr>\n",
       "      <th>99</th>\n",
       "      <td>2022-10-25 21:02:15.091630</td>\n",
       "      <td>9</td>\n",
       "      <td>16</td>\n",
       "    </tr>\n",
       "  </tbody>\n",
       "</table>\n",
       "<p>100 rows × 3 columns</p>\n",
       "</div>"
      ],
      "text/plain": [
       "               fuga_TIMESTAMP  fuga  huga\n",
       "0  2022-10-25 21:02:14.992630    24    13\n",
       "1  2022-10-25 21:02:14.993630     9    25\n",
       "2  2022-10-25 21:02:14.994630    18    19\n",
       "3  2022-10-25 21:02:14.995630    20    14\n",
       "4  2022-10-25 21:02:14.996630     8    28\n",
       "..                        ...   ...   ...\n",
       "95 2022-10-25 21:02:15.087630    29    14\n",
       "96 2022-10-25 21:02:15.088630    28    26\n",
       "97 2022-10-25 21:02:15.089630    16    24\n",
       "98 2022-10-25 21:02:15.090630    21    19\n",
       "99 2022-10-25 21:02:15.091630     9    16\n",
       "\n",
       "[100 rows x 3 columns]"
      ]
     },
     "execution_count": 473,
     "metadata": {},
     "output_type": "execute_result"
    }
   ],
   "source": [
    "ans"
   ]
  },
  {
   "cell_type": "code",
   "execution_count": 133,
   "metadata": {},
   "outputs": [],
   "source": [
    "# 列を受け取り、削る関数\n",
    "def hoge(x):\n",
    "    return pd.to_datetime(x.iloc[:, 0].apply(lambda y: y[:-3]))"
   ]
  },
  {
   "cell_type": "code",
   "execution_count": 84,
   "metadata": {},
   "outputs": [
    {
     "data": {
      "text/plain": [
       "0    2022-10-24 21:16:09.380154\n",
       "1    2022-10-24 21:16:09.382154\n",
       "2    2022-10-24 21:16:09.384154\n",
       "3    2022-10-24 21:16:09.386154\n",
       "4    2022-10-24 21:16:09.388154\n",
       "                ...            \n",
       "95                          NaT\n",
       "96                          NaT\n",
       "97                          NaT\n",
       "98                          NaT\n",
       "99                          NaT\n",
       "Name: fuga_TIMESTAMP, Length: 100, dtype: datetime64[ns]"
      ]
     },
     "execution_count": 84,
     "metadata": {},
     "output_type": "execute_result"
    }
   ],
   "source": [
    "pd.to_datetime(data.loc[:, \"fuga_TIMESTAMP\"], errors=\"coerce\")"
   ]
  },
  {
   "cell_type": "code",
   "execution_count": 86,
   "metadata": {},
   "outputs": [
    {
     "data": {
      "text/plain": [
       "0     2022-10-24 21:16:09.380154\n",
       "1     2022-10-24 21:16:09.382154\n",
       "2     2022-10-24 21:16:09.384154\n",
       "3     2022-10-24 21:16:09.386154\n",
       "4     2022-10-24 21:16:09.388154\n",
       "                 ...            \n",
       "95                           NaN\n",
       "96                           NaN\n",
       "97                           NaN\n",
       "98                           NaN\n",
       "99                           NaN\n",
       "Name: fuga_TIMESTAMP, Length: 100, dtype: object"
      ]
     },
     "execution_count": 86,
     "metadata": {},
     "output_type": "execute_result"
    }
   ],
   "source": [
    "data.loc[:, \"fuga_TIMESTAMP\"]"
   ]
  },
  {
   "cell_type": "markdown",
   "metadata": {},
   "source": [
    "### BOKEH\n",
    "\n",
    "https://docs.bokeh.org/en/latest/docs/first_steps/first_steps_1.html"
   ]
  },
  {
   "cell_type": "code",
   "execution_count": 403,
   "metadata": {},
   "outputs": [],
   "source": [
    "target = \"fuga\"\n",
    "dataY = ans[target]\n",
    "dataX = ans[\"huga\"]"
   ]
  },
  {
   "cell_type": "code",
   "execution_count": 415,
   "metadata": {},
   "outputs": [],
   "source": [
    "from bokeh.plotting import figure, show\n",
    "from bokeh.models import DatetimeTickFormatter\n",
    "from bokeh.models import ColumnDataSource"
   ]
  },
  {
   "cell_type": "code",
   "execution_count": 324,
   "metadata": {},
   "outputs": [],
   "source": [
    "# prepare some data\n",
    "x = [1, 2, 3, 4, 5]\n",
    "y = [6, 7, 2, 4, 5]"
   ]
  },
  {
   "cell_type": "code",
   "execution_count": 479,
   "metadata": {},
   "outputs": [],
   "source": [
    "data = ColumnDataSource(data=ans)"
   ]
  },
  {
   "cell_type": "code",
   "execution_count": 395,
   "metadata": {},
   "outputs": [],
   "source": [
    "timestamp = ans[\"fuga_TIMESTAMP\"]"
   ]
  },
  {
   "cell_type": "code",
   "execution_count": 480,
   "metadata": {},
   "outputs": [],
   "source": [
    "# tooltips設定\n",
    "TOOLTIPS = [\n",
    "    (\"index\", \"$index\"),\n",
    "    (\"(x,y)\", \"(@huga, @y)\"),\n",
    "    (\"timestamp\", \"@fuga_TIMESTAMP\"),\n",
    "    (\"label\", \"@label\"),\n",
    "]"
   ]
  },
  {
   "cell_type": "code",
   "execution_count": 486,
   "metadata": {},
   "outputs": [],
   "source": [
    "# create a new plot with a title and axis labels\n",
    "#p = figure(title=\"Simple line example\", x_axis_label='timestamp', y_axis_label=target, tooltips=TOOLTIPS)\n",
    "p = figure(title=\"Simple line example\", x_axis_label='timestamp', y_axis_label=target, tooltips=TOOLTIPS)"
   ]
  },
  {
   "cell_type": "code",
   "execution_count": 487,
   "metadata": {},
   "outputs": [
    {
     "data": {
      "text/html": [
       "<div style=\"display: table;\"><div style=\"display: table-row;\"><div style=\"display: table-cell;\"><b title=\"bokeh.models.renderers.GlyphRenderer\">GlyphRenderer</b>(</div><div style=\"display: table-cell;\">id&nbsp;=&nbsp;'7314', <span id=\"7329\" style=\"cursor: pointer;\">&hellip;)</span></div></div><div class=\"7328\" style=\"display: none;\"><div style=\"display: table-cell;\"></div><div style=\"display: table-cell;\">coordinates&nbsp;=&nbsp;None,</div></div><div class=\"7328\" style=\"display: none;\"><div style=\"display: table-cell;\"></div><div style=\"display: table-cell;\">data_source&nbsp;=&nbsp;ColumnDataSource(id='7309', ...),</div></div><div class=\"7328\" style=\"display: none;\"><div style=\"display: table-cell;\"></div><div style=\"display: table-cell;\">glyph&nbsp;=&nbsp;Circle(id='7311', ...),</div></div><div class=\"7328\" style=\"display: none;\"><div style=\"display: table-cell;\"></div><div style=\"display: table-cell;\">group&nbsp;=&nbsp;None,</div></div><div class=\"7328\" style=\"display: none;\"><div style=\"display: table-cell;\"></div><div style=\"display: table-cell;\">hover_glyph&nbsp;=&nbsp;None,</div></div><div class=\"7328\" style=\"display: none;\"><div style=\"display: table-cell;\"></div><div style=\"display: table-cell;\">js_event_callbacks&nbsp;=&nbsp;{},</div></div><div class=\"7328\" style=\"display: none;\"><div style=\"display: table-cell;\"></div><div style=\"display: table-cell;\">js_property_callbacks&nbsp;=&nbsp;{},</div></div><div class=\"7328\" style=\"display: none;\"><div style=\"display: table-cell;\"></div><div style=\"display: table-cell;\">level&nbsp;=&nbsp;'glyph',</div></div><div class=\"7328\" style=\"display: none;\"><div style=\"display: table-cell;\"></div><div style=\"display: table-cell;\">muted&nbsp;=&nbsp;False,</div></div><div class=\"7328\" style=\"display: none;\"><div style=\"display: table-cell;\"></div><div style=\"display: table-cell;\">muted_glyph&nbsp;=&nbsp;Circle(id='7313', ...),</div></div><div class=\"7328\" style=\"display: none;\"><div style=\"display: table-cell;\"></div><div style=\"display: table-cell;\">name&nbsp;=&nbsp;None,</div></div><div class=\"7328\" style=\"display: none;\"><div style=\"display: table-cell;\"></div><div style=\"display: table-cell;\">nonselection_glyph&nbsp;=&nbsp;Circle(id='7312', ...),</div></div><div class=\"7328\" style=\"display: none;\"><div style=\"display: table-cell;\"></div><div style=\"display: table-cell;\">selection_glyph&nbsp;=&nbsp;'auto',</div></div><div class=\"7328\" style=\"display: none;\"><div style=\"display: table-cell;\"></div><div style=\"display: table-cell;\">subscribed_events&nbsp;=&nbsp;[],</div></div><div class=\"7328\" style=\"display: none;\"><div style=\"display: table-cell;\"></div><div style=\"display: table-cell;\">syncable&nbsp;=&nbsp;True,</div></div><div class=\"7328\" style=\"display: none;\"><div style=\"display: table-cell;\"></div><div style=\"display: table-cell;\">tags&nbsp;=&nbsp;[],</div></div><div class=\"7328\" style=\"display: none;\"><div style=\"display: table-cell;\"></div><div style=\"display: table-cell;\">view&nbsp;=&nbsp;CDSView(id='7315', ...),</div></div><div class=\"7328\" style=\"display: none;\"><div style=\"display: table-cell;\"></div><div style=\"display: table-cell;\">visible&nbsp;=&nbsp;True,</div></div><div class=\"7328\" style=\"display: none;\"><div style=\"display: table-cell;\"></div><div style=\"display: table-cell;\">x_range_name&nbsp;=&nbsp;'default',</div></div><div class=\"7328\" style=\"display: none;\"><div style=\"display: table-cell;\"></div><div style=\"display: table-cell;\">y_range_name&nbsp;=&nbsp;'default')</div></div></div>\n",
       "<script>\n",
       "(function() {\n",
       "  let expanded = false;\n",
       "  const ellipsis = document.getElementById(\"7329\");\n",
       "  ellipsis.addEventListener(\"click\", function() {\n",
       "    const rows = document.getElementsByClassName(\"7328\");\n",
       "    for (let i = 0; i < rows.length; i++) {\n",
       "      const el = rows[i];\n",
       "      el.style.display = expanded ? \"none\" : \"table-row\";\n",
       "    }\n",
       "    ellipsis.innerHTML = expanded ? \"&hellip;)\" : \"&lsaquo;&lsaquo;&lsaquo;\";\n",
       "    expanded = !expanded;\n",
       "  });\n",
       "})();\n",
       "</script>\n"
      ],
      "text/plain": [
       "GlyphRenderer(id='7314', ...)"
      ]
     },
     "execution_count": 487,
     "metadata": {},
     "output_type": "execute_result"
    }
   ],
   "source": [
    "p.circle(x=\"huga\", y=\"fuga\", source=data, legend_label=\"Objects\",\n",
    "    fill_color=\"red\",\n",
    "    fill_alpha=0.5,\n",
    "    line_color=\"blue\",\n",
    "    size=10)"
   ]
  },
  {
   "cell_type": "code",
   "execution_count": 483,
   "metadata": {},
   "outputs": [],
   "source": [
    "show(p)"
   ]
  },
  {
   "cell_type": "code",
   "execution_count": 491,
   "metadata": {},
   "outputs": [
    {
     "data": {
      "text/plain": [
       "'{\"target_id\": \"myplot\", \"root_id\": \"7274\", \"doc\": {\"defs\": [], \"roots\": {\"references\": [{\"attributes\": {}, \"id\": \"7286\", \"type\": \"BasicTicker\"}, {\"attributes\": {\"below\": [{\"id\": \"7285\"}], \"center\": [{\"id\": \"7288\"}, {\"id\": \"7292\"}, {\"id\": \"7326\"}], \"left\": [{\"id\": \"7289\"}], \"renderers\": [{\"id\": \"7314\"}], \"title\": {\"id\": \"7275\"}, \"toolbar\": {\"id\": \"7301\"}, \"x_range\": {\"id\": \"7277\"}, \"x_scale\": {\"id\": \"7281\"}, \"y_range\": {\"id\": \"7279\"}, \"y_scale\": {\"id\": \"7283\"}}, \"id\": \"7274\", \"subtype\": \"Figure\", \"type\": \"Plot\"}, {\"attributes\": {}, \"id\": \"7319\", \"type\": \"AllLabels\"}, {\"attributes\": {}, \"id\": \"7323\", \"type\": \"UnionRenderers\"}, {\"attributes\": {}, \"id\": \"7324\", \"type\": \"Selection\"}, {\"attributes\": {\"data\": {\"fuga\": [24, 9, 18, 20, 8, 25, 7, 10, 11, 9, 24, 13, 19, 28, 11, 6, 24, 28, 25, 17, 27, 28, 28, 13, 27, 25, 26, 8, 17, 22, 6, 14, 29, 8, 26, 5, 9, 25, 21, 7, 23, 7, 8, 7, 28, 20, 20, 14, 22, 25, 16, 17, 17, 27, 29, 28, 28, 7, 25, 10, 21, 26, 11, 22, 8, 5, 24, 25, 15, 9, 18, 7, 10, 21, 17, 26, 26, 6, 16, 9, 6, 18, 11, 7, 7, 8, 15, 11, 13, 23, 6, 26, 22, 11, 10, 29, 28, 16, 21, 9], \"fuga_TIMESTAMP\": [\"2022-10-25 21:02:14.992630\", \"2022-10-25 21:02:14.993630\", \"2022-10-25 21:02:14.994630\", \"2022-10-25 21:02:14.995630\", \"2022-10-25 21:02:14.996630\", \"2022-10-25 21:02:14.997630\", \"2022-10-25 21:02:14.998630\", \"2022-10-25 21:02:14.999630\", \"2022-10-25 21:02:15.000630\", \"2022-10-25 21:02:15.001630\", \"2022-10-25 21:02:15.002630\", \"2022-10-25 21:02:15.003630\", \"2022-10-25 21:02:15.004630\", \"2022-10-25 21:02:15.005630\", \"2022-10-25 21:02:15.006630\", \"2022-10-25 21:02:15.007630\", \"2022-10-25 21:02:15.008630\", \"2022-10-25 21:02:15.009630\", \"2022-10-25 21:02:15.010630\", \"2022-10-25 21:02:15.011630\", \"2022-10-25 21:02:15.012630\", \"2022-10-25 21:02:15.013630\", \"2022-10-25 21:02:15.014630\", \"2022-10-25 21:02:15.015630\", \"2022-10-25 21:02:15.016630\", \"2022-10-25 21:02:15.017630\", \"2022-10-25 21:02:15.018630\", \"2022-10-25 21:02:15.019630\", \"2022-10-25 21:02:15.020630\", \"2022-10-25 21:02:15.021630\", \"2022-10-25 21:02:15.022630\", \"2022-10-25 21:02:15.023630\", \"2022-10-25 21:02:15.024630\", \"2022-10-25 21:02:15.025630\", \"2022-10-25 21:02:15.026630\", \"2022-10-25 21:02:15.027630\", \"2022-10-25 21:02:15.028630\", \"2022-10-25 21:02:15.029630\", \"2022-10-25 21:02:15.030630\", \"2022-10-25 21:02:15.031630\", \"2022-10-25 21:02:15.032630\", \"2022-10-25 21:02:15.033630\", \"2022-10-25 21:02:15.034630\", \"2022-10-25 21:02:15.035630\", \"2022-10-25 21:02:15.036630\", \"2022-10-25 21:02:15.037630\", \"2022-10-25 21:02:15.038630\", \"2022-10-25 21:02:15.039630\", \"2022-10-25 21:02:15.040630\", \"2022-10-25 21:02:15.041630\", \"2022-10-25 21:02:15.042630\", \"2022-10-25 21:02:15.043630\", \"2022-10-25 21:02:15.044630\", \"2022-10-25 21:02:15.045630\", \"2022-10-25 21:02:15.046630\", \"2022-10-25 21:02:15.047630\", \"2022-10-25 21:02:15.048630\", \"2022-10-25 21:02:15.049630\", \"2022-10-25 21:02:15.050630\", \"2022-10-25 21:02:15.051630\", \"2022-10-25 21:02:15.052630\", \"2022-10-25 21:02:15.053630\", \"2022-10-25 21:02:15.054630\", \"2022-10-25 21:02:15.055630\", \"2022-10-25 21:02:15.056630\", \"2022-10-25 21:02:15.057630\", \"2022-10-25 21:02:15.058630\", \"2022-10-25 21:02:15.059630\", \"2022-10-25 21:02:15.060630\", \"2022-10-25 21:02:15.061630\", \"2022-10-25 21:02:15.062630\", \"2022-10-25 21:02:15.063630\", \"2022-10-25 21:02:15.064630\", \"2022-10-25 21:02:15.065630\", \"2022-10-25 21:02:15.066630\", \"2022-10-25 21:02:15.067630\", \"2022-10-25 21:02:15.068630\", \"2022-10-25 21:02:15.069630\", \"2022-10-25 21:02:15.070630\", \"2022-10-25 21:02:15.071630\", \"2022-10-25 21:02:15.072630\", \"2022-10-25 21:02:15.073630\", \"2022-10-25 21:02:15.074630\", \"2022-10-25 21:02:15.075630\", \"2022-10-25 21:02:15.076630\", \"2022-10-25 21:02:15.077630\", \"2022-10-25 21:02:15.078630\", \"2022-10-25 21:02:15.079630\", \"2022-10-25 21:02:15.080630\", \"2022-10-25 21:02:15.081630\", \"2022-10-25 21:02:15.082630\", \"2022-10-25 21:02:15.083630\", \"2022-10-25 21:02:15.084630\", \"2022-10-25 21:02:15.085630\", \"2022-10-25 21:02:15.086630\", \"2022-10-25 21:02:15.087630\", \"2022-10-25 21:02:15.088630\", \"2022-10-25 21:02:15.089630\", \"2022-10-25 21:02:15.090630\", \"2022-10-25 21:02:15.091630\"], \"huga\": [13, 25, 19, 14, 28, 9, 24, 28, 19, 25, 20, 15, 23, 29, 19, 16, 11, 7, 21, 5, 27, 20, 24, 7, 13, 20, 19, 22, 29, 10, 19, 9, 20, 21, 17, 28, 11, 14, 22, 29, 21, 8, 9, 16, 20, 7, 17, 7, 25, 11, 8, 16, 13, 24, 29, 26, 7, 16, 13, 5, 12, 28, 9, 20, 26, 12, 22, 23, 10, 25, 23, 22, 6, 8, 28, 13, 25, 5, 11, 29, 27, 6, 17, 14, 9, 27, 12, 6, 6, 28, 12, 10, 21, 24, 25, 14, 26, 24, 19, 16], \"index\": [0, 1, 2, 3, 4, 5, 6, 7, 8, 9, 10, 11, 12, 13, 14, 15, 16, 17, 18, 19, 20, 21, 22, 23, 24, 25, 26, 27, 28, 29, 30, 31, 32, 33, 34, 35, 36, 37, 38, 39, 40, 41, 42, 43, 44, 45, 46, 47, 48, 49, 50, 51, 52, 53, 54, 55, 56, 57, 58, 59, 60, 61, 62, 63, 64, 65, 66, 67, 68, 69, 70, 71, 72, 73, 74, 75, 76, 77, 78, 79, 80, 81, 82, 83, 84, 85, 86, 87, 88, 89, 90, 91, 92, 93, 94, 95, 96, 97, 98, 99]}, \"selected\": {\"id\": \"7324\"}, \"selection_policy\": {\"id\": \"7323\"}}, \"id\": \"7309\", \"type\": \"ColumnDataSource\"}, {\"attributes\": {\"fill_alpha\": {\"value\": 0.5}, \"fill_color\": {\"value\": \"red\"}, \"line_color\": {\"value\": \"blue\"}, \"size\": {\"value\": 10}, \"x\": {\"field\": \"huga\"}, \"y\": {\"field\": \"fuga\"}}, \"id\": \"7311\", \"type\": \"Circle\"}, {\"attributes\": {\"coordinates\": null, \"group\": null, \"text\": \"Simple line example\"}, \"id\": \"7275\", \"type\": \"Title\"}, {\"attributes\": {\"coordinates\": null, \"data_source\": {\"id\": \"7309\"}, \"glyph\": {\"id\": \"7311\"}, \"group\": null, \"hover_glyph\": null, \"muted_glyph\": {\"id\": \"7313\"}, \"nonselection_glyph\": {\"id\": \"7312\"}, \"view\": {\"id\": \"7315\"}}, \"id\": \"7314\", \"type\": \"GlyphRenderer\"}, {\"attributes\": {}, \"id\": \"7322\", \"type\": \"AllLabels\"}, {\"attributes\": {\"axis_label\": \"timestamp\", \"coordinates\": null, \"formatter\": {\"id\": \"7321\"}, \"group\": null, \"major_label_policy\": {\"id\": \"7322\"}, \"ticker\": {\"id\": \"7286\"}}, \"id\": \"7285\", \"type\": \"LinearAxis\"}, {\"attributes\": {\"tools\": [{\"id\": \"7293\"}, {\"id\": \"7294\"}, {\"id\": \"7295\"}, {\"id\": \"7296\"}, {\"id\": \"7297\"}, {\"id\": \"7298\"}, {\"id\": \"7300\"}]}, \"id\": \"7301\", \"type\": \"Toolbar\"}, {\"attributes\": {}, \"id\": \"7290\", \"type\": \"BasicTicker\"}, {\"attributes\": {}, \"id\": \"7318\", \"type\": \"BasicTickFormatter\"}, {\"attributes\": {}, \"id\": \"7281\", \"type\": \"LinearScale\"}, {\"attributes\": {\"axis\": {\"id\": \"7285\"}, \"coordinates\": null, \"group\": null, \"ticker\": null}, \"id\": \"7288\", \"type\": \"Grid\"}, {\"attributes\": {\"fill_alpha\": {\"value\": 0.2}, \"fill_color\": {\"value\": \"red\"}, \"hatch_alpha\": {\"value\": 0.2}, \"line_alpha\": {\"value\": 0.2}, \"line_color\": {\"value\": \"blue\"}, \"size\": {\"value\": 10}, \"x\": {\"field\": \"huga\"}, \"y\": {\"field\": \"fuga\"}}, \"id\": \"7313\", \"type\": \"Circle\"}, {\"attributes\": {}, \"id\": \"7293\", \"type\": \"PanTool\"}, {\"attributes\": {}, \"id\": \"7277\", \"type\": \"DataRange1d\"}, {\"attributes\": {}, \"id\": \"7298\", \"type\": \"HelpTool\"}, {\"attributes\": {\"label\": {\"value\": \"Objects\"}, \"renderers\": [{\"id\": \"7314\"}]}, \"id\": \"7327\", \"type\": \"LegendItem\"}, {\"attributes\": {}, \"id\": \"7283\", \"type\": \"LinearScale\"}, {\"attributes\": {\"axis\": {\"id\": \"7289\"}, \"coordinates\": null, \"dimension\": 1, \"group\": null, \"ticker\": null}, \"id\": \"7292\", \"type\": \"Grid\"}, {\"attributes\": {\"axis_label\": \"fuga\", \"coordinates\": null, \"formatter\": {\"id\": \"7318\"}, \"group\": null, \"major_label_policy\": {\"id\": \"7319\"}, \"ticker\": {\"id\": \"7290\"}}, \"id\": \"7289\", \"type\": \"LinearAxis\"}, {\"attributes\": {\"callback\": null, \"tooltips\": [[\"index\", \"$index\"], [\"(x,y)\", \"(@huga, @y)\"], [\"timestamp\", \"@fuga_TIMESTAMP\"], [\"label\", \"@label\"]]}, \"id\": \"7300\", \"type\": \"HoverTool\"}, {\"attributes\": {}, \"id\": \"7296\", \"type\": \"SaveTool\"}, {\"attributes\": {}, \"id\": \"7294\", \"type\": \"WheelZoomTool\"}, {\"attributes\": {\"bottom_units\": \"screen\", \"coordinates\": null, \"fill_alpha\": 0.5, \"fill_color\": \"lightgrey\", \"group\": null, \"left_units\": \"screen\", \"level\": \"overlay\", \"line_alpha\": 1.0, \"line_color\": \"black\", \"line_dash\": [4, 4], \"line_width\": 2, \"right_units\": \"screen\", \"syncable\": false, \"top_units\": \"screen\"}, \"id\": \"7299\", \"type\": \"BoxAnnotation\"}, {\"attributes\": {\"source\": {\"id\": \"7309\"}}, \"id\": \"7315\", \"type\": \"CDSView\"}, {\"attributes\": {\"overlay\": {\"id\": \"7299\"}}, \"id\": \"7295\", \"type\": \"BoxZoomTool\"}, {\"attributes\": {}, \"id\": \"7321\", \"type\": \"BasicTickFormatter\"}, {\"attributes\": {\"coordinates\": null, \"group\": null, \"items\": [{\"id\": \"7327\"}]}, \"id\": \"7326\", \"type\": \"Legend\"}, {\"attributes\": {}, \"id\": \"7297\", \"type\": \"ResetTool\"}, {\"attributes\": {\"fill_alpha\": {\"value\": 0.1}, \"fill_color\": {\"value\": \"red\"}, \"hatch_alpha\": {\"value\": 0.1}, \"line_alpha\": {\"value\": 0.1}, \"line_color\": {\"value\": \"blue\"}, \"size\": {\"value\": 10}, \"x\": {\"field\": \"huga\"}, \"y\": {\"field\": \"fuga\"}}, \"id\": \"7312\", \"type\": \"Circle\"}, {\"attributes\": {}, \"id\": \"7279\", \"type\": \"DataRange1d\"}], \"root_ids\": [\"7274\"]}, \"title\": \"\", \"version\": \"2.4.3\"}, \"version\": \"2.4.3\"}'"
      ]
     },
     "execution_count": 491,
     "metadata": {},
     "output_type": "execute_result"
    }
   ],
   "source": [
    "\n",
    "from bokeh.embed import json_item\n",
    "import json\n",
    "json.dumps(json_item(p, \"myplot\"))"
   ]
  },
  {
   "cell_type": "code",
   "execution_count": 351,
   "metadata": {},
   "outputs": [
    {
     "data": {
      "text/html": [
       "<div style=\"display: table;\"><div style=\"display: table-row;\"><div style=\"display: table-cell;\"><b title=\"bokeh.models.renderers.GlyphRenderer\">GlyphRenderer</b>(</div><div style=\"display: table-cell;\">id&nbsp;=&nbsp;'2682', <span id=\"2697\" style=\"cursor: pointer;\">&hellip;)</span></div></div><div class=\"2696\" style=\"display: none;\"><div style=\"display: table-cell;\"></div><div style=\"display: table-cell;\">coordinates&nbsp;=&nbsp;None,</div></div><div class=\"2696\" style=\"display: none;\"><div style=\"display: table-cell;\"></div><div style=\"display: table-cell;\">data_source&nbsp;=&nbsp;ColumnDataSource(id='2678', ...),</div></div><div class=\"2696\" style=\"display: none;\"><div style=\"display: table-cell;\"></div><div style=\"display: table-cell;\">glyph&nbsp;=&nbsp;Line(id='2679', ...),</div></div><div class=\"2696\" style=\"display: none;\"><div style=\"display: table-cell;\"></div><div style=\"display: table-cell;\">group&nbsp;=&nbsp;None,</div></div><div class=\"2696\" style=\"display: none;\"><div style=\"display: table-cell;\"></div><div style=\"display: table-cell;\">hover_glyph&nbsp;=&nbsp;None,</div></div><div class=\"2696\" style=\"display: none;\"><div style=\"display: table-cell;\"></div><div style=\"display: table-cell;\">js_event_callbacks&nbsp;=&nbsp;{},</div></div><div class=\"2696\" style=\"display: none;\"><div style=\"display: table-cell;\"></div><div style=\"display: table-cell;\">js_property_callbacks&nbsp;=&nbsp;{},</div></div><div class=\"2696\" style=\"display: none;\"><div style=\"display: table-cell;\"></div><div style=\"display: table-cell;\">level&nbsp;=&nbsp;'glyph',</div></div><div class=\"2696\" style=\"display: none;\"><div style=\"display: table-cell;\"></div><div style=\"display: table-cell;\">muted&nbsp;=&nbsp;False,</div></div><div class=\"2696\" style=\"display: none;\"><div style=\"display: table-cell;\"></div><div style=\"display: table-cell;\">muted_glyph&nbsp;=&nbsp;Line(id='2681', ...),</div></div><div class=\"2696\" style=\"display: none;\"><div style=\"display: table-cell;\"></div><div style=\"display: table-cell;\">name&nbsp;=&nbsp;None,</div></div><div class=\"2696\" style=\"display: none;\"><div style=\"display: table-cell;\"></div><div style=\"display: table-cell;\">nonselection_glyph&nbsp;=&nbsp;Line(id='2680', ...),</div></div><div class=\"2696\" style=\"display: none;\"><div style=\"display: table-cell;\"></div><div style=\"display: table-cell;\">selection_glyph&nbsp;=&nbsp;'auto',</div></div><div class=\"2696\" style=\"display: none;\"><div style=\"display: table-cell;\"></div><div style=\"display: table-cell;\">subscribed_events&nbsp;=&nbsp;[],</div></div><div class=\"2696\" style=\"display: none;\"><div style=\"display: table-cell;\"></div><div style=\"display: table-cell;\">syncable&nbsp;=&nbsp;True,</div></div><div class=\"2696\" style=\"display: none;\"><div style=\"display: table-cell;\"></div><div style=\"display: table-cell;\">tags&nbsp;=&nbsp;[],</div></div><div class=\"2696\" style=\"display: none;\"><div style=\"display: table-cell;\"></div><div style=\"display: table-cell;\">view&nbsp;=&nbsp;CDSView(id='2683', ...),</div></div><div class=\"2696\" style=\"display: none;\"><div style=\"display: table-cell;\"></div><div style=\"display: table-cell;\">visible&nbsp;=&nbsp;True,</div></div><div class=\"2696\" style=\"display: none;\"><div style=\"display: table-cell;\"></div><div style=\"display: table-cell;\">x_range_name&nbsp;=&nbsp;'default',</div></div><div class=\"2696\" style=\"display: none;\"><div style=\"display: table-cell;\"></div><div style=\"display: table-cell;\">y_range_name&nbsp;=&nbsp;'default')</div></div></div>\n",
       "<script>\n",
       "(function() {\n",
       "  let expanded = false;\n",
       "  const ellipsis = document.getElementById(\"2697\");\n",
       "  ellipsis.addEventListener(\"click\", function() {\n",
       "    const rows = document.getElementsByClassName(\"2696\");\n",
       "    for (let i = 0; i < rows.length; i++) {\n",
       "      const el = rows[i];\n",
       "      el.style.display = expanded ? \"none\" : \"table-row\";\n",
       "    }\n",
       "    ellipsis.innerHTML = expanded ? \"&hellip;)\" : \"&lsaquo;&lsaquo;&lsaquo;\";\n",
       "    expanded = !expanded;\n",
       "  });\n",
       "})();\n",
       "</script>\n"
      ],
      "text/plain": [
       "GlyphRenderer(id='2682', ...)"
      ]
     },
     "execution_count": 351,
     "metadata": {},
     "output_type": "execute_result"
    }
   ],
   "source": [
    "#p.line(x, y, legend_label=\"Temp.\", line_width=2)"
   ]
  },
  {
   "cell_type": "code",
   "execution_count": 413,
   "metadata": {},
   "outputs": [
    {
     "data": {
      "text/html": [
       "<div style=\"display: table;\"><div style=\"display: table-row;\"><div style=\"display: table-cell;\"><b title=\"bokeh.models.renderers.GlyphRenderer\">GlyphRenderer</b>(</div><div style=\"display: table-cell;\">id&nbsp;=&nbsp;'5016', <span id=\"5031\" style=\"cursor: pointer;\">&hellip;)</span></div></div><div class=\"5030\" style=\"display: none;\"><div style=\"display: table-cell;\"></div><div style=\"display: table-cell;\">coordinates&nbsp;=&nbsp;None,</div></div><div class=\"5030\" style=\"display: none;\"><div style=\"display: table-cell;\"></div><div style=\"display: table-cell;\">data_source&nbsp;=&nbsp;ColumnDataSource(id='5012', ...),</div></div><div class=\"5030\" style=\"display: none;\"><div style=\"display: table-cell;\"></div><div style=\"display: table-cell;\">glyph&nbsp;=&nbsp;Circle(id='5013', ...),</div></div><div class=\"5030\" style=\"display: none;\"><div style=\"display: table-cell;\"></div><div style=\"display: table-cell;\">group&nbsp;=&nbsp;None,</div></div><div class=\"5030\" style=\"display: none;\"><div style=\"display: table-cell;\"></div><div style=\"display: table-cell;\">hover_glyph&nbsp;=&nbsp;None,</div></div><div class=\"5030\" style=\"display: none;\"><div style=\"display: table-cell;\"></div><div style=\"display: table-cell;\">js_event_callbacks&nbsp;=&nbsp;{},</div></div><div class=\"5030\" style=\"display: none;\"><div style=\"display: table-cell;\"></div><div style=\"display: table-cell;\">js_property_callbacks&nbsp;=&nbsp;{},</div></div><div class=\"5030\" style=\"display: none;\"><div style=\"display: table-cell;\"></div><div style=\"display: table-cell;\">level&nbsp;=&nbsp;'glyph',</div></div><div class=\"5030\" style=\"display: none;\"><div style=\"display: table-cell;\"></div><div style=\"display: table-cell;\">muted&nbsp;=&nbsp;False,</div></div><div class=\"5030\" style=\"display: none;\"><div style=\"display: table-cell;\"></div><div style=\"display: table-cell;\">muted_glyph&nbsp;=&nbsp;Circle(id='5015', ...),</div></div><div class=\"5030\" style=\"display: none;\"><div style=\"display: table-cell;\"></div><div style=\"display: table-cell;\">name&nbsp;=&nbsp;None,</div></div><div class=\"5030\" style=\"display: none;\"><div style=\"display: table-cell;\"></div><div style=\"display: table-cell;\">nonselection_glyph&nbsp;=&nbsp;Circle(id='5014', ...),</div></div><div class=\"5030\" style=\"display: none;\"><div style=\"display: table-cell;\"></div><div style=\"display: table-cell;\">selection_glyph&nbsp;=&nbsp;'auto',</div></div><div class=\"5030\" style=\"display: none;\"><div style=\"display: table-cell;\"></div><div style=\"display: table-cell;\">subscribed_events&nbsp;=&nbsp;[],</div></div><div class=\"5030\" style=\"display: none;\"><div style=\"display: table-cell;\"></div><div style=\"display: table-cell;\">syncable&nbsp;=&nbsp;True,</div></div><div class=\"5030\" style=\"display: none;\"><div style=\"display: table-cell;\"></div><div style=\"display: table-cell;\">tags&nbsp;=&nbsp;[],</div></div><div class=\"5030\" style=\"display: none;\"><div style=\"display: table-cell;\"></div><div style=\"display: table-cell;\">view&nbsp;=&nbsp;CDSView(id='5017', ...),</div></div><div class=\"5030\" style=\"display: none;\"><div style=\"display: table-cell;\"></div><div style=\"display: table-cell;\">visible&nbsp;=&nbsp;True,</div></div><div class=\"5030\" style=\"display: none;\"><div style=\"display: table-cell;\"></div><div style=\"display: table-cell;\">x_range_name&nbsp;=&nbsp;'default',</div></div><div class=\"5030\" style=\"display: none;\"><div style=\"display: table-cell;\"></div><div style=\"display: table-cell;\">y_range_name&nbsp;=&nbsp;'default')</div></div></div>\n",
       "<script>\n",
       "(function() {\n",
       "  let expanded = false;\n",
       "  const ellipsis = document.getElementById(\"5031\");\n",
       "  ellipsis.addEventListener(\"click\", function() {\n",
       "    const rows = document.getElementsByClassName(\"5030\");\n",
       "    for (let i = 0; i < rows.length; i++) {\n",
       "      const el = rows[i];\n",
       "      el.style.display = expanded ? \"none\" : \"table-row\";\n",
       "    }\n",
       "    ellipsis.innerHTML = expanded ? \"&hellip;)\" : \"&lsaquo;&lsaquo;&lsaquo;\";\n",
       "    expanded = !expanded;\n",
       "  });\n",
       "})();\n",
       "</script>\n"
      ],
      "text/plain": [
       "GlyphRenderer(id='5016', ...)"
      ]
     },
     "execution_count": 413,
     "metadata": {},
     "output_type": "execute_result"
    }
   ],
   "source": [
    "p.circle(\n",
    "    dataX,\n",
    "    dataY,\n",
    "    legend_label=\"Objects\",\n",
    "    fill_color=\"red\",\n",
    "    fill_alpha=0.5,\n",
    "    line_color=\"blue\",\n",
    "    size=10,\n",
    ")"
   ]
  },
  {
   "cell_type": "code",
   "execution_count": 409,
   "metadata": {},
   "outputs": [],
   "source": [
    "p.xaxis.formatter=DatetimeTickFormatter(\n",
    "    )"
   ]
  },
  {
   "cell_type": "code",
   "execution_count": 377,
   "metadata": {},
   "outputs": [
    {
     "data": {
      "text/plain": [
       "Timestamp('2022-10-25 21:02:14.992630')"
      ]
     },
     "execution_count": 377,
     "metadata": {},
     "output_type": "execute_result"
    }
   ],
   "source": [
    "dataX[0]"
   ]
  },
  {
   "cell_type": "code",
   "execution_count": 420,
   "metadata": {},
   "outputs": [
    {
     "name": "stderr",
     "output_type": "stream",
     "text": [
      "ERROR:bokeh.core.validation.check:E-1001 (BAD_COLUMN_NAME): Glyph refers to nonexistent column name. This could either be due to a misspelling or typo, or due to an expected column being missing. : key \"x\" value \"huga\", key \"y\" value \"fuga\" [renderer: GlyphRenderer(id='5208', ...)]\n"
     ]
    }
   ],
   "source": [
    "show(p)"
   ]
  }
 ],
 "metadata": {
  "kernelspec": {
   "display_name": "Python 3.8.13 ('deep_learning')",
   "language": "python",
   "name": "python3"
  },
  "language_info": {
   "codemirror_mode": {
    "name": "ipython",
    "version": 3
   },
   "file_extension": ".py",
   "mimetype": "text/x-python",
   "name": "python",
   "nbconvert_exporter": "python",
   "pygments_lexer": "ipython3",
   "version": "3.8.13"
  },
  "orig_nbformat": 4,
  "vscode": {
   "interpreter": {
    "hash": "9f3e0ae6286c20e26d0049663cd1c8bde674a589e5042e47a1f9748f70eef2e8"
   }
  }
 },
 "nbformat": 4,
 "nbformat_minor": 2
}
